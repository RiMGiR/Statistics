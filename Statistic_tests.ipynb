{
 "cells": [
  {
   "cell_type": "code",
   "execution_count": 28,
   "id": "9e664b51-ca80-4a6a-ae16-6f6586057ff5",
   "metadata": {},
   "outputs": [],
   "source": [
    "import numpy as np\n",
    "import pandas as pd\n",
    "from scipy import stats\n",
    "import matplotlib.pyplot as plt\n",
    "import pingouin as pg\n",
    "import requests\n",
    "from urllib.parse import urlencode\n",
    "from tqdm.auto import tqdm\n",
    "import seaborn as sns\n",
    "import matplotlib.pyplot as plt\n",
    "\n",
    "\n",
    "%matplotlib inline"
   ]
  },
  {
   "cell_type": "markdown",
   "id": "7a3be071-2936-483d-a19f-d1046c870fe5",
   "metadata": {
    "tags": []
   },
   "source": [
    "### Загрузка данных"
   ]
  },
  {
   "cell_type": "code",
   "execution_count": 29,
   "id": "19c66184-5435-4c8c-ba76-d3b9d8ec7bf3",
   "metadata": {},
   "outputs": [],
   "source": [
    "# загрузка pезультатов A/B теста\n",
    "\n",
    "public_key = 'https://disk.yandex.ru/d/FPMcY4_9kTUpNg' # Сюда вписываете вашу ссылку\n",
    "#df_names = ['assessment',  'courses', 'studentAssessment','studentRegistration']\n",
    "\n",
    "base_url = 'https://cloud-api.yandex.net/v1/disk/public/resources/download?'\n",
    "# Получаем загрузочную ссылку\n",
    "final_url = base_url + urlencode(dict(public_key = public_key))\n",
    "response = requests.get(final_url)\n",
    "df = response.json()['href']\n",
    "# Загружаем файл и сохраняем его\n",
    "download_response = requests.get(final_url)\n",
    "\n",
    "df_AB = pd.read_csv(df, sep = ';', index_col=0)"
   ]
  },
  {
   "cell_type": "markdown",
   "id": "c7789193-71e5-4e2e-bc9e-45bdc493b708",
   "metadata": {},
   "source": [
    "### Исследование данных"
   ]
  },
  {
   "cell_type": "code",
   "execution_count": 30,
   "id": "6f9dbbf7-f58e-49b5-a959-b0f83a971314",
   "metadata": {
    "tags": []
   },
   "outputs": [
    {
     "name": "stdout",
     "output_type": "stream",
     "text": [
      "<class 'pandas.core.frame.DataFrame'>\n",
      "Int64Index: 1000 entries, 1 to 1000\n",
      "Data columns (total 2 columns):\n",
      " #   Column             Non-Null Count  Dtype \n",
      "---  ------             --------------  ----- \n",
      " 0   value              1000 non-null   object\n",
      " 1   experimentVariant  1000 non-null   object\n",
      "dtypes: object(2)\n",
      "memory usage: 23.4+ KB\n"
     ]
    }
   ],
   "source": [
    "df_AB.info()\n",
    "# исследуемый признак имеет не численный тип данных"
   ]
  },
  {
   "cell_type": "code",
   "execution_count": 31,
   "id": "2eb98ca0-8ef4-4f47-81f8-438be8b7de7a",
   "metadata": {},
   "outputs": [],
   "source": [
    "#  замена десятичного разделителя на точку\n",
    "df_AB['value'] = df_AB.value.str.replace(pat = ',', repl='.')"
   ]
  },
  {
   "cell_type": "code",
   "execution_count": 32,
   "id": "d454d59d-37be-415d-8e2d-687a642ea03e",
   "metadata": {},
   "outputs": [],
   "source": [
    "# перевод типа объект в тип число\n",
    "df_AB['value'] = pd.to_numeric(df_AB.value)"
   ]
  },
  {
   "cell_type": "code",
   "execution_count": 33,
   "id": "ed8095d2-fce4-4a66-b8dc-cc0f7185b423",
   "metadata": {},
   "outputs": [
    {
     "name": "stdout",
     "output_type": "stream",
     "text": [
      "<class 'pandas.core.frame.DataFrame'>\n",
      "Int64Index: 1000 entries, 1 to 1000\n",
      "Data columns (total 2 columns):\n",
      " #   Column             Non-Null Count  Dtype  \n",
      "---  ------             --------------  -----  \n",
      " 0   value              1000 non-null   float64\n",
      " 1   experimentVariant  1000 non-null   object \n",
      "dtypes: float64(1), object(1)\n",
      "memory usage: 23.4+ KB\n"
     ]
    }
   ],
   "source": [
    "df_AB.info()\n",
    "# тип данных поменялся"
   ]
  },
  {
   "cell_type": "code",
   "execution_count": 34,
   "id": "8a553460-fb20-4692-ba7a-3ecd5be05431",
   "metadata": {},
   "outputs": [
    {
     "data": {
      "text/plain": [
       "experimentVariant\n",
       "Control      500\n",
       "Treatment    500\n",
       "dtype: int64"
      ]
     },
     "execution_count": 34,
     "metadata": {},
     "output_type": "execute_result"
    }
   ],
   "source": [
    "#проверим объем наблюдений в группах\n",
    "df_AB.groupby('experimentVariant').size()\n",
    "#кол-во наблюдений в группах равное"
   ]
  },
  {
   "cell_type": "code",
   "execution_count": 35,
   "id": "6a08448e-f037-4af1-9735-c6a47796d0f5",
   "metadata": {},
   "outputs": [
    {
     "data": {
      "text/html": [
       "<div>\n",
       "<style scoped>\n",
       "    .dataframe tbody tr th:only-of-type {\n",
       "        vertical-align: middle;\n",
       "    }\n",
       "\n",
       "    .dataframe tbody tr th {\n",
       "        vertical-align: top;\n",
       "    }\n",
       "\n",
       "    .dataframe thead th {\n",
       "        text-align: right;\n",
       "    }\n",
       "</style>\n",
       "<table border=\"1\" class=\"dataframe\">\n",
       "  <thead>\n",
       "    <tr style=\"text-align: right;\">\n",
       "      <th></th>\n",
       "      <th>value</th>\n",
       "    </tr>\n",
       "  </thead>\n",
       "  <tbody>\n",
       "    <tr>\n",
       "      <th>count</th>\n",
       "      <td>1000.000000</td>\n",
       "    </tr>\n",
       "    <tr>\n",
       "      <th>mean</th>\n",
       "      <td>18.674183</td>\n",
       "    </tr>\n",
       "    <tr>\n",
       "      <th>std</th>\n",
       "      <td>132.135045</td>\n",
       "    </tr>\n",
       "    <tr>\n",
       "      <th>min</th>\n",
       "      <td>6.436541</td>\n",
       "    </tr>\n",
       "    <tr>\n",
       "      <th>25%</th>\n",
       "      <td>9.414051</td>\n",
       "    </tr>\n",
       "    <tr>\n",
       "      <th>50%</th>\n",
       "      <td>10.020862</td>\n",
       "    </tr>\n",
       "    <tr>\n",
       "      <th>75%</th>\n",
       "      <td>10.669292</td>\n",
       "    </tr>\n",
       "    <tr>\n",
       "      <th>max</th>\n",
       "      <td>3000.000000</td>\n",
       "    </tr>\n",
       "  </tbody>\n",
       "</table>\n",
       "</div>"
      ],
      "text/plain": [
       "             value\n",
       "count  1000.000000\n",
       "mean     18.674183\n",
       "std     132.135045\n",
       "min       6.436541\n",
       "25%       9.414051\n",
       "50%      10.020862\n",
       "75%      10.669292\n",
       "max    3000.000000"
      ]
     },
     "execution_count": 35,
     "metadata": {},
     "output_type": "execute_result"
    }
   ],
   "source": [
    "df_AB.describe()\n",
    "#по описательной статистике явно есть выбросы.\n",
    "#медиана и средняя имеют одну разрядность, а вот стандартная ошибка очень большая"
   ]
  },
  {
   "cell_type": "code",
   "execution_count": 36,
   "id": "8a22e6b6-00de-4c25-8965-646d53c3a455",
   "metadata": {},
   "outputs": [
    {
     "data": {
      "text/plain": [
       "<AxesSubplot:>"
      ]
     },
     "execution_count": 36,
     "metadata": {},
     "output_type": "execute_result"
    },
    {
     "data": {
      "image/png": "[encoded data removed]",
      "text/plain": [
       "<Figure size 432x288 with 1 Axes>"
      ]
     },
     "metadata": {
      "needs_background": "light"
     },
     "output_type": "display_data"
    }
   ],
   "source": [
    "# данные в контрольной группе визуально имееют нормальное распределение\n",
    "df_AB.query('experimentVariant == \"Control\"').value.hist()"
   ]
  },
  {
   "cell_type": "code",
   "execution_count": 37,
   "id": "86de973f-6de2-4871-85d1-bcae349d7db0",
   "metadata": {},
   "outputs": [
    {
     "data": {
      "text/plain": [
       "<AxesSubplot:>"
      ]
     },
     "execution_count": 37,
     "metadata": {},
     "output_type": "execute_result"
    },
    {
     "data": {
      "image/png": "[encoded data removed]",
      "text/plain": [
       "<Figure size 432x288 with 1 Axes>"
      ]
     },
     "metadata": {
      "needs_background": "light"
     },
     "output_type": "display_data"
    }
   ],
   "source": [
    "# данные в тестовой группе имеют явно скошенное распределение.\n",
    "# есть несколько выбрасов\n",
    "# по графику, можно попробовать избавиться от выбросов больше 500, потом посчитаю их количество. может стоит дальше работать без них и это позволит нормаировать распределение\n",
    "df_AB.query('experimentVariant == \"Treatment\"').value.hist()"
   ]
  },
  {
   "cell_type": "code",
   "execution_count": 38,
   "id": "a46d5c43-8615-4664-a34b-eb083508116b",
   "metadata": {
    "tags": []
   },
   "outputs": [],
   "source": [
    "df_AB = df_AB.query('value < 500')"
   ]
  },
  {
   "cell_type": "code",
   "execution_count": 39,
   "id": "7038ea10-7eff-45a6-9bfd-0248c9241a84",
   "metadata": {
    "tags": []
   },
   "outputs": [
    {
     "data": {
      "text/plain": [
       "<AxesSubplot:>"
      ]
     },
     "execution_count": 39,
     "metadata": {},
     "output_type": "execute_result"
    },
    {
     "data": {
      "image/png": "[encoded data removed]",
      "text/plain": [
       "<Figure size 432x288 with 1 Axes>"
      ]
     },
     "metadata": {
      "needs_background": "light"
     },
     "output_type": "display_data"
    }
   ],
   "source": [
    "# распределение в тестовой группе приняло нормальный - колокообразный вид после исключения выбрасов\n",
    "df_AB.query('experimentVariant == \"Treatment\"').value.hist()"
   ]
  },
  {
   "cell_type": "code",
   "execution_count": 40,
   "id": "053c2b40-57a5-46c5-b6b8-932e5404ba3e",
   "metadata": {},
   "outputs": [
    {
     "data": {
      "text/plain": [
       "experimentVariant\n",
       "Control      NaN\n",
       "Treatment   -1.0\n",
       "Name: value, dtype: float64"
      ]
     },
     "execution_count": 40,
     "metadata": {},
     "output_type": "execute_result"
    }
   ],
   "source": [
    "# изменение в объеме выборки теста, по сравнению с котрольной группой, после удаления выбрасов\n",
    "df_AB.groupby('experimentVariant')['value'].count().pct_change().mul(100)\n",
    "# наблюдений в тестовой группе стало на 1% меньше, чем в контрольной было 500, стало 495\n",
    "# выборку считаем репрезентативной, кол-во наблюдений > 30"
   ]
  },
  {
   "cell_type": "code",
   "execution_count": 41,
   "id": "16bb51d6-1f10-45e3-8faf-dea76c22726f",
   "metadata": {},
   "outputs": [
    {
     "name": "stdout",
     "output_type": "stream",
     "text": [
      "<class 'pandas.core.frame.DataFrame'>\n",
      "Int64Index: 995 entries, 1 to 995\n",
      "Data columns (total 2 columns):\n",
      " #   Column             Non-Null Count  Dtype  \n",
      "---  ------             --------------  -----  \n",
      " 0   value              995 non-null    float64\n",
      " 1   experimentVariant  995 non-null    object \n",
      "dtypes: float64(1), object(1)\n",
      "memory usage: 23.3+ KB\n"
     ]
    }
   ],
   "source": [
    "df_AB.info()"
   ]
  },
  {
   "cell_type": "markdown",
   "id": "0edd3bd4-2e48-45d9-b72a-8adbcb1367b4",
   "metadata": {
    "tags": []
   },
   "source": [
    "### Проверка на соответствие для проведения тестов\n",
    "\n",
    "**чтобы провести t-test нужно соблюсти условия:**\n",
    "1. репрезентативная выборка, наблюдений больше 30 *(проверено на шаге по исследованию описательных статистик)*\n",
    "2. распределение признака стремиться к нормальному\n",
    "3. дисперсия внутри контрольной и тестовой групп должна быть примерно одинаковой"
   ]
  },
  {
   "cell_type": "markdown",
   "id": "6acc2ac8-fa00-4851-8f6f-100d0faee0e9",
   "metadata": {
    "tags": []
   },
   "source": [
    "#### 2. распределение признака стремиться к нормальному\n",
    "\n",
    "***Гипотеза:*** Н0 - распределения в группах соответствуют нормальному\n",
    "\n",
    "***ВЫВОД:*** При визуальном анализе и проверки распределения на нормальность мы **не получили статистически значимых отклонений**, чтобы отвергнуть H0."
   ]
  },
  {
   "cell_type": "code",
   "execution_count": 42,
   "id": "c882da97-8d0d-40a1-b2a3-7034d07e9e30",
   "metadata": {},
   "outputs": [
    {
     "data": {
      "text/plain": [
       "Text(0.5, 1.0, 'Control')"
      ]
     },
     "execution_count": 42,
     "metadata": {},
     "output_type": "execute_result"
    },
    {
     "data": {
      "image/png": "[encoded data removed]",
      "text/plain": [
       "<Figure size 864x504 with 4 Axes>"
      ]
     },
     "metadata": {
      "needs_background": "light"
     },
     "output_type": "display_data"
    }
   ],
   "source": [
    "# проверка распределения на соотвествие \"нормальному\"\n",
    "# строим гистограммы и QQplot\n",
    "\n",
    "fig, axes = plt.subplots(nrows = 2, ncols = 2, figsize = (12,7), constrained_layout = True)\n",
    "\n",
    "pg.qqplot(x = df_AB.query('experimentVariant == \"Treatment\"').value, ax = axes[0,0])\n",
    "pg.qqplot(x = df_AB.query('experimentVariant == \"Control\"').value,  ax = axes[0,1])\n",
    "\n",
    "sns.histplot(x = df_AB.query('experimentVariant == \"Treatment\"').value, ax = axes[1,0])\n",
    "sns.histplot(x = df_AB.query('experimentVariant == \"Control\"').value, ax = axes[1,1])\n",
    "\n",
    "\n",
    "\n",
    "axes[0,0].set_title('Treatment')\n",
    "axes[0,1].set_title('Control')\n",
    "axes[1,0].set_title('Treatment')\n",
    "axes[1,1].set_title('Control')\n",
    "\n",
    "\n",
    "\n",
    "# после удаления выбросов, сделанных на этапе проверки описательных статистик, данные в обоих группах стремяться к нормальному распределению"
   ]
  },
  {
   "cell_type": "code",
   "execution_count": 43,
   "id": "61f378ff-aa96-445b-9b70-a4454fb0c260",
   "metadata": {},
   "outputs": [
    {
     "name": "stdout",
     "output_type": "stream",
     "text": [
      "TEST GROUP : ShapiroResult(statistic=0.9955515265464783, pvalue=0.17188233137130737)\n",
      "CONTROL GROUP : ShapiroResult(statistic=0.9959248900413513, pvalue=0.22416365146636963)\n"
     ]
    }
   ],
   "source": [
    "# у нас выборка очень большая, поэтому тест Шопиро будет очень чувствителен к выбросам и будет велика ошибка I рода\n",
    "print(f'''TEST GROUP : {stats.shapiro(df_AB.query('experimentVariant == \"Treatment\"').value)}''')\n",
    "print(f'''CONTROL GROUP : {stats.shapiro(df_AB.query('experimentVariant == \"Control\"').value)}''')"
   ]
  },
  {
   "cell_type": "code",
   "execution_count": 17,
   "id": "190121e3-78e8-4358-b29c-e90e0a206b01",
   "metadata": {},
   "outputs": [
    {
     "name": "stdout",
     "output_type": "stream",
     "text": [
      "TEST GROUP : NormaltestResult(statistic=3.4264513588191425, pvalue=0.18028331749803517)\n",
      "CONTROL GROUP : NormaltestResult(statistic=2.943458720256407, pvalue=0.2295282048395919)\n"
     ]
    }
   ],
   "source": [
    "# тест на нормальность, менее чувствительный к большим выборкам\n",
    "print(f'''TEST GROUP : {stats.normaltest(df_AB.query('experimentVariant == \"Treatment\"').value)}''')\n",
    "print(f'''CONTROL GROUP : {stats.normaltest(df_AB.query('experimentVariant == \"Control\"').value)}''')"
   ]
  },
  {
   "cell_type": "code",
   "execution_count": 18,
   "id": "e9e0e5ac-ef8f-4e37-a510-45b5eb285fa1",
   "metadata": {},
   "outputs": [
    {
     "data": {
      "text/html": [
       "<div>\n",
       "<style scoped>\n",
       "    .dataframe tbody tr th:only-of-type {\n",
       "        vertical-align: middle;\n",
       "    }\n",
       "\n",
       "    .dataframe tbody tr th {\n",
       "        vertical-align: top;\n",
       "    }\n",
       "\n",
       "    .dataframe thead th {\n",
       "        text-align: right;\n",
       "    }\n",
       "</style>\n",
       "<table border=\"1\" class=\"dataframe\">\n",
       "  <thead>\n",
       "    <tr style=\"text-align: right;\">\n",
       "      <th></th>\n",
       "      <th>W</th>\n",
       "      <th>pval</th>\n",
       "      <th>normal</th>\n",
       "    </tr>\n",
       "  </thead>\n",
       "  <tbody>\n",
       "    <tr>\n",
       "      <th>Control</th>\n",
       "      <td>2.943459</td>\n",
       "      <td>0.229528</td>\n",
       "      <td>True</td>\n",
       "    </tr>\n",
       "    <tr>\n",
       "      <th>Treatment</th>\n",
       "      <td>3.426451</td>\n",
       "      <td>0.180283</td>\n",
       "      <td>True</td>\n",
       "    </tr>\n",
       "  </tbody>\n",
       "</table>\n",
       "</div>"
      ],
      "text/plain": [
       "                  W      pval  normal\n",
       "Control    2.943459  0.229528    True\n",
       "Treatment  3.426451  0.180283    True"
      ]
     },
     "execution_count": 18,
     "metadata": {},
     "output_type": "execute_result"
    }
   ],
   "source": [
    "# тест на нормальность, менее чувствительный к большим выборкам, реализованный в библиотеке пингвин\n",
    "pg.normality(df_AB, dv = 'value', group = 'experimentVariant' , method = 'normaltest')"
   ]
  },
  {
   "cell_type": "markdown",
   "id": "75a38124-4e24-4de7-b6ed-49504ec88d1a",
   "metadata": {
    "tags": []
   },
   "source": [
    "#### 3. проверка дисперсий на равенство\n",
    "\n",
    "***Гипотеза:*** Н0 - дисперсия в контрольной группе равна дисперсии в тестовой\n",
    "\n",
    "***ВЫВОД:*** мы **не получили** статистически значимое различие p - value > 0.05, Н0 не отклоняем"
   ]
  },
  {
   "cell_type": "code",
   "execution_count": 44,
   "id": "fe0ac0ab-8c3f-420a-a1a0-f972a85baada",
   "metadata": {},
   "outputs": [
    {
     "data": {
      "text/html": [
       "<div>\n",
       "<style scoped>\n",
       "    .dataframe tbody tr th:only-of-type {\n",
       "        vertical-align: middle;\n",
       "    }\n",
       "\n",
       "    .dataframe tbody tr th {\n",
       "        vertical-align: top;\n",
       "    }\n",
       "\n",
       "    .dataframe thead th {\n",
       "        text-align: right;\n",
       "    }\n",
       "</style>\n",
       "<table border=\"1\" class=\"dataframe\">\n",
       "  <thead>\n",
       "    <tr style=\"text-align: right;\">\n",
       "      <th></th>\n",
       "      <th>W</th>\n",
       "      <th>pval</th>\n",
       "      <th>equal_var</th>\n",
       "    </tr>\n",
       "  </thead>\n",
       "  <tbody>\n",
       "    <tr>\n",
       "      <th>levene</th>\n",
       "      <td>0.004298</td>\n",
       "      <td>0.947742</td>\n",
       "      <td>True</td>\n",
       "    </tr>\n",
       "  </tbody>\n",
       "</table>\n",
       "</div>"
      ],
      "text/plain": [
       "               W      pval  equal_var\n",
       "levene  0.004298  0.947742       True"
      ]
     },
     "execution_count": 44,
     "metadata": {},
     "output_type": "execute_result"
    }
   ],
   "source": [
    "# тест на равность дисперсий показал, что оснований отклонить H0 нет\n",
    "pg.homoscedasticity(df_AB, dv = 'value', group = 'experimentVariant')"
   ]
  },
  {
   "cell_type": "markdown",
   "id": "b67dca36-5c09-4e38-9593-baa6210c88d9",
   "metadata": {},
   "source": [
    "###  Проведение тестов\n",
    "\n",
    "***Гипотеза:*** H0 - в тестовой и контрольной группе нет значимых различий\n",
    "1. t-test\n",
    "2. u - test\n",
    "3. bootstrap"
   ]
  },
  {
   "cell_type": "markdown",
   "id": "b738023c-5bf4-4c6a-9bad-1c189db5c42b",
   "metadata": {
    "tags": []
   },
   "source": [
    "### 1. t-test\n",
    "в целом, благодаря преобразованиям - исключению из выборки выбросов, условия для качественного теста соблюдены. Есть только небольшое различие в размере выборки\n",
    "\n",
    "\n",
    "***ВЫВОД:*** в результате t-test мы не можем отклонить H0 "
   ]
  },
  {
   "cell_type": "code",
   "execution_count": 48,
   "id": "3e04e67c-48be-40f0-9429-97ea7bb3fdcf",
   "metadata": {},
   "outputs": [
    {
     "name": "stdout",
     "output_type": "stream",
     "text": [
      "CPU times: total: 15.6 ms\n",
      "Wall time: 11 ms\n"
     ]
    },
    {
     "data": {
      "text/html": [
       "<div>\n",
       "<style scoped>\n",
       "    .dataframe tbody tr th:only-of-type {\n",
       "        vertical-align: middle;\n",
       "    }\n",
       "\n",
       "    .dataframe tbody tr th {\n",
       "        vertical-align: top;\n",
       "    }\n",
       "\n",
       "    .dataframe thead th {\n",
       "        text-align: right;\n",
       "    }\n",
       "</style>\n",
       "<table border=\"1\" class=\"dataframe\">\n",
       "  <thead>\n",
       "    <tr style=\"text-align: right;\">\n",
       "      <th></th>\n",
       "      <th>T</th>\n",
       "      <th>dof</th>\n",
       "      <th>alternative</th>\n",
       "      <th>p-val</th>\n",
       "      <th>CI95%</th>\n",
       "      <th>cohen-d</th>\n",
       "      <th>BF10</th>\n",
       "      <th>power</th>\n",
       "    </tr>\n",
       "  </thead>\n",
       "  <tbody>\n",
       "    <tr>\n",
       "      <th>T-test</th>\n",
       "      <td>6.212981</td>\n",
       "      <td>1.0021</td>\n",
       "      <td>two-sided</td>\n",
       "      <td>0.101243</td>\n",
       "      <td>[-8.73, 25.6]</td>\n",
       "      <td>8.599029</td>\n",
       "      <td>2.672e+06</td>\n",
       "      <td>1.0</td>\n",
       "    </tr>\n",
       "  </tbody>\n",
       "</table>\n",
       "</div>"
      ],
      "text/plain": [
       "               T     dof alternative     p-val          CI95%   cohen-d  \\\n",
       "T-test  6.212981  1.0021   two-sided  0.101243  [-8.73, 25.6]  8.599029   \n",
       "\n",
       "             BF10  power  \n",
       "T-test  2.672e+06    1.0  "
      ]
     },
     "execution_count": 48,
     "metadata": {},
     "output_type": "execute_result"
    }
   ],
   "source": [
    "%%time\n",
    "# ttest\n",
    "pg.ttest(df_AB.query('experimentVariant == \"Treatment\"').value, stats.normaltest(df_AB.query('experimentVariant == \"Control\"').value))"
   ]
  },
  {
   "cell_type": "markdown",
   "id": "f263ab1c-5ebe-4435-90ff-172480647569",
   "metadata": {},
   "source": [
    "### 2. u-test\n",
    "Был бы полезен для проверки равенства распределений и показал , возможно, адекватный результат, если бы не избавилась от выбросов. \n",
    "\n",
    "***ВЫВОД:*** в результате u-test мы должны отклонить H0. <br>\n",
    "    В случае когда все уловия для проведения параметрического теста соблюдены, непараметрический тест проводить не зачем.<br> \n",
    "    Поэтому результат этого теста, в данном A/B тесте не следует рассматривать."
   ]
  },
  {
   "cell_type": "code",
   "execution_count": 49,
   "id": "888be66c-6949-44c8-8574-57a42fec3405",
   "metadata": {},
   "outputs": [
    {
     "name": "stdout",
     "output_type": "stream",
     "text": [
      "CPU times: total: 0 ns\n",
      "Wall time: 5.98 ms\n"
     ]
    },
    {
     "data": {
      "text/html": [
       "<div>\n",
       "<style scoped>\n",
       "    .dataframe tbody tr th:only-of-type {\n",
       "        vertical-align: middle;\n",
       "    }\n",
       "\n",
       "    .dataframe tbody tr th {\n",
       "        vertical-align: top;\n",
       "    }\n",
       "\n",
       "    .dataframe thead th {\n",
       "        text-align: right;\n",
       "    }\n",
       "</style>\n",
       "<table border=\"1\" class=\"dataframe\">\n",
       "  <thead>\n",
       "    <tr style=\"text-align: right;\">\n",
       "      <th></th>\n",
       "      <th>U-val</th>\n",
       "      <th>alternative</th>\n",
       "      <th>p-val</th>\n",
       "      <th>RBC</th>\n",
       "      <th>CLES</th>\n",
       "    </tr>\n",
       "  </thead>\n",
       "  <tbody>\n",
       "    <tr>\n",
       "      <th>MWU</th>\n",
       "      <td>990.0</td>\n",
       "      <td>two-sided</td>\n",
       "      <td>0.000016</td>\n",
       "      <td>-1.0</td>\n",
       "      <td>1.0</td>\n",
       "    </tr>\n",
       "  </tbody>\n",
       "</table>\n",
       "</div>"
      ],
      "text/plain": [
       "     U-val alternative     p-val  RBC  CLES\n",
       "MWU  990.0   two-sided  0.000016 -1.0   1.0"
      ]
     },
     "execution_count": 49,
     "metadata": {},
     "output_type": "execute_result"
    }
   ],
   "source": [
    "%%time\n",
    "#mwu\n",
    "\n",
    "pg.mwu(df_AB.query('experimentVariant == \"Treatment\"').value, stats.normaltest(df_AB.query('experimentVariant == \"Control\"').value))"
   ]
  },
  {
   "cell_type": "markdown",
   "id": "9dec13a5-9b63-4a1b-922f-cfe92f6369c5",
   "metadata": {},
   "source": [
    "### 3. bootstrap\n",
    "Не важно условие на равенство наблюдений в выборках и не сильно чувствителен к выбросам. В качестве метрики используется среднее арифметическое значение.\n",
    "\n",
    "***ВЫВОД:*** в результате bootstrap мы не можем отклонить H0 "
   ]
  },
  {
   "cell_type": "code",
   "execution_count": 22,
   "id": "42b78e27-1082-4fb7-a4b4-bbb9bda7ab5d",
   "metadata": {
    "tags": []
   },
   "outputs": [],
   "source": [
    "#bootstrap\n",
    "\n",
    "def get_bootstrap(\n",
    "    data_column_1, # числовые значения первой выборки\n",
    "    data_column_2, # числовые значения второй выборки\n",
    "    boot_it = 1000, # количество бутстрэп-подвыборок\n",
    "    statistic = np.mean, # интересующая нас статистика\n",
    "    bootstrap_conf_level = 0.95 # уровень значимости\n",
    "):\n",
    "    boot_data = []\n",
    "    for i in tqdm(range(boot_it)): # извлекаем подвыборки\n",
    "        samples_1 = data_column_1.sample(\n",
    "            len(data_column_1), \n",
    "            replace = True # параметр возвращения\n",
    "        ).values\n",
    "        \n",
    "        samples_2 = data_column_2.sample(\n",
    "            len(data_column_1), \n",
    "            replace = True\n",
    "        ).values\n",
    "        \n",
    "        boot_data.append(statistic(samples_1)-statistic(samples_2)) # mean() - применяем статистику\n",
    "        \n",
    "    pd_boot_data = pd.DataFrame(boot_data)\n",
    "        \n",
    "    left_quant = (1 - bootstrap_conf_level)/2\n",
    "    right_quant = 1 - (1 - bootstrap_conf_level) / 2\n",
    "    quants = pd_boot_data.quantile([left_quant, right_quant])\n",
    "        \n",
    "    p_1 = stats.norm.cdf(\n",
    "        x = 0, \n",
    "        loc = np.mean(boot_data), \n",
    "        scale = np.std(boot_data)\n",
    "    )\n",
    "    p_2 = stats.norm.cdf(\n",
    "        x = 0, \n",
    "        loc = -np.mean(boot_data), \n",
    "        scale = np.std(boot_data)\n",
    "    )\n",
    "    p_value = min(p_1, p_2) * 2\n",
    "        \n",
    "    # Визуализация\n",
    "    _, _, bars = plt.hist(pd_boot_data[0], bins = 50)\n",
    "    for bar in bars:\n",
    "        if bar.get_x() <= quants.iloc[0][0] or bar.get_x() >= quants.iloc[1][0]:\n",
    "            bar.set_facecolor('red')\n",
    "        else: \n",
    "            bar.set_facecolor('grey')\n",
    "            bar.set_edgecolor('black')\n",
    "    \n",
    "    plt.style.use('ggplot')\n",
    "    plt.vlines(quants,ymin=0,ymax=50,linestyle='--')\n",
    "    plt.xlabel('boot_data')\n",
    "    plt.ylabel('frequency')\n",
    "    plt.title(\"Histogram of boot_data\")\n",
    "    plt.show()\n",
    "       \n",
    "    return {\"boot_data\": boot_data, \n",
    "            \"quants\": quants, \n",
    "            \"p_value\": p_value}"
   ]
  },
  {
   "cell_type": "code",
   "execution_count": 23,
   "id": "0059a97f-29e4-4fc9-b4fa-efbe1d7b759f",
   "metadata": {},
   "outputs": [],
   "source": [
    "x = df_AB.query('experimentVariant == \"Treatment\"').value\n",
    "y = df_AB.query('experimentVariant == \"Control\"').value"
   ]
  },
  {
   "cell_type": "code",
   "execution_count": 50,
   "id": "87365bf2-a182-412a-bdcf-81334d84bc93",
   "metadata": {},
   "outputs": [
    {
     "data": {
      "application/vnd.jupyter.widget-view+json": {
       "model_id": "f154ce48195445519c99b73a5c5e5acd",
       "version_major": 2,
       "version_minor": 0
      },
      "text/plain": [
       "  0%|          | 0/2000 [00:00<?, ?it/s]"
      ]
     },
     "metadata": {},
     "output_type": "display_data"
    },
    {
     "data": {
      "image/png": "[encoded data removed]",
      "text/plain": [
       "<Figure size 432x288 with 1 Axes>"
      ]
     },
     "metadata": {
      "needs_background": "light"
     },
     "output_type": "display_data"
    },
    {
     "name": "stdout",
     "output_type": "stream",
     "text": [
      "CPU times: total: 547 ms\n",
      "Wall time: 547 ms\n"
     ]
    }
   ],
   "source": [
    "%%time\n",
    "booted_data = get_bootstrap(x, y, boot_it = 2000)"
   ]
  },
  {
   "cell_type": "code",
   "execution_count": 25,
   "id": "469cad6f-bfe4-4780-996e-ad23532b9011",
   "metadata": {},
   "outputs": [
    {
     "data": {
      "text/plain": [
       "0.9603579824867163"
      ]
     },
     "execution_count": 25,
     "metadata": {},
     "output_type": "execute_result"
    }
   ],
   "source": [
    "booted_data[\"p_value\"]"
   ]
  },
  {
   "cell_type": "code",
   "execution_count": 26,
   "id": "e191af69-7b1b-44a7-96be-2e4c17df682d",
   "metadata": {},
   "outputs": [
    {
     "data": {
      "text/html": [
       "<div>\n",
       "<style scoped>\n",
       "    .dataframe tbody tr th:only-of-type {\n",
       "        vertical-align: middle;\n",
       "    }\n",
       "\n",
       "    .dataframe tbody tr th {\n",
       "        vertical-align: top;\n",
       "    }\n",
       "\n",
       "    .dataframe thead th {\n",
       "        text-align: right;\n",
       "    }\n",
       "</style>\n",
       "<table border=\"1\" class=\"dataframe\">\n",
       "  <thead>\n",
       "    <tr style=\"text-align: right;\">\n",
       "      <th></th>\n",
       "      <th>0</th>\n",
       "    </tr>\n",
       "  </thead>\n",
       "  <tbody>\n",
       "    <tr>\n",
       "      <th>0.025</th>\n",
       "      <td>-0.124781</td>\n",
       "    </tr>\n",
       "    <tr>\n",
       "      <th>0.975</th>\n",
       "      <td>0.122332</td>\n",
       "    </tr>\n",
       "  </tbody>\n",
       "</table>\n",
       "</div>"
      ],
      "text/plain": [
       "              0\n",
       "0.025 -0.124781\n",
       "0.975  0.122332"
      ]
     },
     "execution_count": 26,
     "metadata": {},
     "output_type": "execute_result"
    }
   ],
   "source": [
    "booted_data[\"quants\"]"
   ]
  },
  {
   "cell_type": "markdown",
   "id": "3d800fc7-d4ec-417f-a6eb-d3d7fe031eb5",
   "metadata": {},
   "source": [
    "### Заключение:\n",
    "\n",
    "1. На первом этапе EDA обнаружили небольшие выбросы, которые исключены, так как их количество очень мало, а сами выбросы являются аномальными.\n",
    "2. Условия для проведения t-testa были соблюдены, кроме того в bootstrap мы получили аналогичный результат об отсутствии изменений в средних значениях в тестовой и контрольной группах. Но так как bootstrap использует больше мощности, и соответственно времени, то в нашем случае стоит использовать t-test.\n",
    "3. по результатам уровень заработка не изменился.\n"
   ]
  },
  {
   "cell_type": "code",
   "execution_count": null,
   "id": "60deaf0c-6d42-4d89-bdd7-2ab58cf2a998",
   "metadata": {},
   "outputs": [],
   "source": []
  },
  {
   "cell_type": "markdown",
   "id": "585ce08a",
   "metadata": {},
   "source": [
    "# Ответ преподавателя\n",
    "\n",
    "\n",
    "Верно следующее утверждение: Манн-Уитни и Бутстрап проверяют разные гипотезы. С помощью бутстрапа мы проверяем нулевую гипотезу о равенстве средних, а Манн-Уитни о равенстве распределений. Что значит равенство распределений? Это значит, что случайно выбранное значение из одной выборки может быть равновероятно больше или меньше случайного значения из другой выборки (иногда путают с равенством медиан, но на самом деле проверяется не только медиана). Также вы верно применили критерии и написали код\n",
    "\n",
    "\n",
    "Про разное количество наблюдений в выборках: Манн-Уитни как и любой статистический оценщик не очень приветлив к дисбалансу. Это сказывается в первую очередь на мощности критерия – чем сильнее дисбаланс, тем реже критерий будет обнаруживать реальную разницу (эффект). Подробнее тут https://stats.stackexchange.com/questions/40342/mann-whitney-u-test-with-unequal-sample-sizes\n",
    "\n",
    "## Итого\n",
    "* Тестовая выборка имеет большие выбросы, что сильно искажает нам среднее значение\n",
    "* Применяя бутстрап с оценкой среднего, мы могли бы отклонить нулевую гипотезу о равенстве средних и сделать вывод, что тестовая и контрольная выборка имеют различия\n",
    "* Однако, тот же бутстрап, но уже по медиане не дает нам отклонить нулевую гипотезу, так как p-value сильно больше 0.05, т.к. здесь проверяется другая гипотеза\n",
    "* U-критерий Манна-Уитни так же не дал бы нам отклонить нулевую гипотезу. Оценки pvalue так же направлены как у бутстрапирования медианы\n",
    "\n",
    "Хорошего дня!"
   ]
  }
 ],
 "metadata": {
  "kernelspec": {
   "display_name": "Python 3 (ipykernel)",
   "language": "python",
   "name": "python3"
  },
  "language_info": {
   "codemirror_mode": {
    "name": "ipython",
    "version": 3
   },
   "file_extension": ".py",
   "mimetype": "text/x-python",
   "name": "python",
   "nbconvert_exporter": "python",
   "pygments_lexer": "ipython3",
   "version": "3.9.13"
  }
 },
 "nbformat": 4,
 "nbformat_minor": 5
}
